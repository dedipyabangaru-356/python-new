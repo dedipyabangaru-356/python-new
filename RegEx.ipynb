{
  "nbformat": 4,
  "nbformat_minor": 0,
  "metadata": {
    "colab": {
      "name": "RegEx.ipynb",
      "provenance": [],
      "authorship_tag": "ABX9TyMbGIvDF8HgJnWGuu6bWK8a",
      "include_colab_link": true
    },
    "kernelspec": {
      "name": "python3",
      "display_name": "Python 3"
    },
    "language_info": {
      "name": "python"
    }
  },
  "cells": [
    {
      "cell_type": "markdown",
      "metadata": {
        "id": "view-in-github",
        "colab_type": "text"
      },
      "source": [
        "<a href=\"https://colab.research.google.com/github/dedipyabangaru-356/python-new/blob/Module_4/RegEx.ipynb\" target=\"_parent\"><img src=\"https://colab.research.google.com/assets/colab-badge.svg\" alt=\"Open In Colab\"/></a>"
      ]
    },
    {
      "cell_type": "code",
      "execution_count": null,
      "metadata": {
        "colab": {
          "base_uri": "https://localhost:8080/"
        },
        "id": "JcJFq_Vw8Uc1",
        "outputId": "10ec5bdb-1935-4d56-80e1-998a2fef3c4a"
      },
      "outputs": [
        {
          "output_type": "stream",
          "name": "stdout",
          "text": [
            "YES! We have a match!\n",
            "['s']\n"
          ]
        }
      ],
      "source": [
        "import re\n",
        "text='Myself Sarang'\n",
        "x=re.search('^M.*g$',text)\n",
        "y=re.findall('s',text)\n",
        "if x:\n",
        "  print(\"YES! We have a match!\")\n",
        "else:\n",
        "  print(\"No match\")\n",
        "print(y)\n"
      ]
    },
    {
      "cell_type": "code",
      "source": [
        "import re \n",
        "txt='''Dear  BANGARU DEDIPYA,\n",
        "\n",
        "The following items have been checked in:\n",
        "Title: Discrete Mathematical Structures with Applications to Computer Science\n",
        "Author: Trembley, Jean-Paul\n",
        "Acc. No. 273377\n",
        "Thank you for visiting KRC, GITAM - Vizag.\n",
        "\n",
        "Please use our Web OPAC to know the details about the library.'''\n",
        "x=re.findall('BANGARU',txt)\n",
        "if x:\n",
        "  print(\"YES! We have a match!\")\n",
        "else:\n",
        "  print(\"No match\")\n"
      ],
      "metadata": {
        "colab": {
          "base_uri": "https://localhost:8080/"
        },
        "id": "qDleYmn4CUcc",
        "outputId": "79a15e47-e935-4079-93c5-dc2bd92cc11c"
      },
      "execution_count": null,
      "outputs": [
        {
          "output_type": "stream",
          "name": "stdout",
          "text": [
            "YES! We have a match!\n"
          ]
        }
      ]
    }
  ]
}