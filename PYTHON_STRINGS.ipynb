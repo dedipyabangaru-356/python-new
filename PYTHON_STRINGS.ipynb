{
  "nbformat": 4,
  "nbformat_minor": 0,
  "metadata": {
    "colab": {
      "name": "PYTHON STRINGS.ipynb",
      "provenance": [],
      "collapsed_sections": [],
      "authorship_tag": "ABX9TyMeYHZeUmzNSEYKymWk2fQB",
      "include_colab_link": true
    },
    "kernelspec": {
      "name": "python3",
      "display_name": "Python 3"
    },
    "language_info": {
      "name": "python"
    }
  },
  "cells": [
    {
      "cell_type": "markdown",
      "metadata": {
        "id": "view-in-github",
        "colab_type": "text"
      },
      "source": [
        "<a href=\"https://colab.research.google.com/github/dedipyabangaru-356/python-new/blob/Module_2/PYTHON_STRINGS.ipynb\" target=\"_parent\"><img src=\"https://colab.research.google.com/assets/colab-badge.svg\" alt=\"Open In Colab\"/></a>"
      ]
    },
    {
      "cell_type": "code",
      "execution_count": null,
      "metadata": {
        "colab": {
          "base_uri": "https://localhost:8080/"
        },
        "id": "XQls4eRO90_c",
        "outputId": "b0b2c46a-c17f-47b6-a30d-49ff497e7ba7"
      },
      "outputs": [
        {
          "output_type": "stream",
          "name": "stdout",
          "text": [
            "Hi, I am Dedipya. Iam from NAD X Road,\n",
            "Visakhapatnam by bus provided by the college.\n"
          ]
        }
      ],
      "source": [
        "#using three double quotes\n",
        "a=\"\"\"Hi, I am Dedipya. Iam from NAD X Road,\n",
        "Visakhapatnam by bus provided by the college.\"\"\"\n",
        "print(a)"
      ]
    },
    {
      "cell_type": "code",
      "source": [
        "#using three single qoutes\n",
        "b='''Hi, I am Dedipya. Iam from NAD X Road,\n",
        "Visakhapatnam by bus provided by the college.'''\n",
        "print(b)\n",
        "print(len(a))"
      ],
      "metadata": {
        "colab": {
          "base_uri": "https://localhost:8080/",
          "height": 235
        },
        "id": "2hsK_21J-10H",
        "outputId": "a1f10cc2-57b1-4606-bc19-1688ed8ee0a8"
      },
      "execution_count": null,
      "outputs": [
        {
          "output_type": "stream",
          "name": "stdout",
          "text": [
            "Hi, I am Dedipya. Iam from NAD X Road,\n",
            "Visakhapatnam by bus provided by the college.\n"
          ]
        },
        {
          "output_type": "error",
          "ename": "NameError",
          "evalue": "ignored",
          "traceback": [
            "\u001b[0;31m---------------------------------------------------------------------------\u001b[0m",
            "\u001b[0;31mNameError\u001b[0m                                 Traceback (most recent call last)",
            "\u001b[0;32m<ipython-input-1-2b9682bd92cc>\u001b[0m in \u001b[0;36m<module>\u001b[0;34m()\u001b[0m\n\u001b[1;32m      3\u001b[0m Visakhapatnam by bus provided by the college.'''\n\u001b[1;32m      4\u001b[0m \u001b[0mprint\u001b[0m\u001b[0;34m(\u001b[0m\u001b[0mb\u001b[0m\u001b[0;34m)\u001b[0m\u001b[0;34m\u001b[0m\u001b[0;34m\u001b[0m\u001b[0m\n\u001b[0;32m----> 5\u001b[0;31m \u001b[0mprint\u001b[0m\u001b[0;34m(\u001b[0m\u001b[0mlen\u001b[0m\u001b[0;34m(\u001b[0m\u001b[0ma\u001b[0m\u001b[0;34m)\u001b[0m\u001b[0;34m)\u001b[0m\u001b[0;34m\u001b[0m\u001b[0;34m\u001b[0m\u001b[0m\n\u001b[0m",
            "\u001b[0;31mNameError\u001b[0m: name 'a' is not defined"
          ]
        }
      ]
    },
    {
      "cell_type": "code",
      "source": [
        "#strings are arrays\n",
        "a='Dedipya'\n",
        "print(a[6])\n",
        "if 'i' in a:\n",
        " print(\"yes, 'i' is present\")"
      ],
      "metadata": {
        "colab": {
          "base_uri": "https://localhost:8080/"
        },
        "id": "5qMs7ND-AdLQ",
        "outputId": "e27a36c3-cac0-4bb2-c741-f7fb9b6b4f41"
      },
      "execution_count": null,
      "outputs": [
        {
          "output_type": "stream",
          "name": "stdout",
          "text": [
            "a\n",
            "yes, 'i' is present\n"
          ]
        }
      ]
    },
    {
      "cell_type": "code",
      "source": [
        "b='''Hi, I am Dedipya. Iam from NAD X Road,\n",
        "Visakhapatnam by bus provided by the college.'''\n",
        "if 'Hi' not in b :\n",
        "  print(\"no\")\n",
        "else:\n",
        "  print('false')\n"
      ],
      "metadata": {
        "colab": {
          "base_uri": "https://localhost:8080/"
        },
        "id": "fCRR_YaTB2Iw",
        "outputId": "9bd97155-d728-4670-f5b8-7578bdb17f51"
      },
      "execution_count": null,
      "outputs": [
        {
          "output_type": "stream",
          "name": "stdout",
          "text": [
            "false\n"
          ]
        }
      ]
    },
    {
      "cell_type": "code",
      "source": [
        "#checking string\n",
        "b='''Hi, I am Dedipya. Iam from NAD X Road,\n",
        "Visakhapatnam by bus provided by the college.'''\n",
        "print(\"Dedipya\" in b)\n",
        "print('doctor'in b)\n",
        "\n"
      ],
      "metadata": {
        "colab": {
          "base_uri": "https://localhost:8080/"
        },
        "id": "dkm6_FNW_ZOO",
        "outputId": "6c1fd447-ebc4-480a-ffb0-6df9e6ffbd58"
      },
      "execution_count": null,
      "outputs": [
        {
          "output_type": "stream",
          "name": "stdout",
          "text": [
            "True\n",
            "False\n"
          ]
        }
      ]
    },
    {
      "cell_type": "code",
      "source": [
        "#slicing string\n",
        "d=\"DedipyaBangaru\"\n",
        "print(d[2:3])\n",
        "print(d[:])\n",
        "print(d[7:], d[-5:-4])\n",
        "#reverse string\n",
        "print(d[::-1])\n",
        "\n"
      ],
      "metadata": {
        "colab": {
          "base_uri": "https://localhost:8080/"
        },
        "id": "wEOq95lEClXH",
        "outputId": "6bed4d93-f0c6-467a-ab51-83d2a5319c9e"
      },
      "execution_count": null,
      "outputs": [
        {
          "output_type": "stream",
          "name": "stdout",
          "text": [
            "d\n",
            "DedipyaBangaru\n",
            "Bangaru n\n",
            "uragnaBaypideD\n"
          ]
        }
      ]
    },
    {
      "cell_type": "code",
      "source": [
        "#reverse string\n",
        "d=\"belgium\"[::-1]\n",
        "print(d)\n",
        "e=d.capitalize()\n",
        "print(e)"
      ],
      "metadata": {
        "colab": {
          "base_uri": "https://localhost:8080/"
        },
        "id": "tuXDv_b-Htnn",
        "outputId": "36bd32c3-f809-4ed0-d9a3-f0ec29c36138"
      },
      "execution_count": null,
      "outputs": [
        {
          "output_type": "stream",
          "name": "stdout",
          "text": [
            "muigleb\n",
            "Muigleb\n"
          ]
        }
      ]
    },
    {
      "cell_type": "code",
      "source": [
        "##modify string\n",
        "v='Kim TaeTae'\n",
        "print(v.upper())\n",
        "print(v.lower())\n",
        "print(v.strip())#returns the v value\n",
        "print(v.replace(\"T\" , \"t\"))\n",
        "print(v.split(\",\"))\n",
        "\n"
      ],
      "metadata": {
        "colab": {
          "base_uri": "https://localhost:8080/"
        },
        "id": "75ZEEYNCDc2G",
        "outputId": "837402df-6fbc-4609-97a7-0a9dceb5a204"
      },
      "execution_count": null,
      "outputs": [
        {
          "output_type": "stream",
          "name": "stdout",
          "text": [
            "KIM TAETAE\n",
            "kim taetae\n",
            "Kim TaeTae\n",
            "Kim taetae\n",
            "['Kim TaeTae']\n"
          ]
        }
      ]
    },
    {
      "cell_type": "code",
      "source": [
        "#string cancatenation\n",
        "a=\"Dedipya\"\n",
        "b=\"Bangaru\"\n",
        "print(a+b)\n",
        "print(a+\" \"+b)\n",
        "print(a+\"'\"+b)"
      ],
      "metadata": {
        "colab": {
          "base_uri": "https://localhost:8080/"
        },
        "id": "sMGJzf5uIb-4",
        "outputId": "9af5df1a-8276-4d92-9fee-9da76364466e"
      },
      "execution_count": null,
      "outputs": [
        {
          "output_type": "stream",
          "name": "stdout",
          "text": [
            "DedipyaBangaru\n",
            "Dedipya Bangaru\n",
            "Dedipya'Bangaru\n"
          ]
        }
      ]
    },
    {
      "cell_type": "code",
      "source": [
        "#format string\n",
        "age=18\n",
        "b=\"Hello, Iam Dedipya.i'm {} years old\"\n",
        "print(b.format(age))"
      ],
      "metadata": {
        "id": "xBqYSmvUKndR",
        "colab": {
          "base_uri": "https://localhost:8080/"
        },
        "outputId": "cbee506a-5ce9-4128-d39e-e9505ded938b"
      },
      "execution_count": null,
      "outputs": [
        {
          "output_type": "stream",
          "name": "stdout",
          "text": [
            "Hello, Iam Dedipya.i'm 18 years old\n"
          ]
        }
      ]
    },
    {
      "cell_type": "code",
      "source": [
        "#escape characters\n",
        "a=\"hello\\nworld!!!\"\n",
        "print(a)\n",
        "b=\"my name is\\tdedipya\"\n",
        "print(b)\n",
        "c=\"im from \\\\ space\"#black slash\n",
        "print(c)\n",
        "d=\"my name is \\t\\bdedipya\"#tab\n",
        "print(d)\n",
        "name=\"my major is \\\"cse\\\" in computer scince engineering\"#quotes\n",
        "print(name)\n",
        "edho=\"em \\r cheyyalani ledhu\"#carriage return\n",
        "print(edho)\n",
        "txt=\"\"\"tomorrow X together \n",
        "\\bis called txt \"\"\"\n",
        "print(txt)"
      ],
      "metadata": {
        "colab": {
          "base_uri": "https://localhost:8080/"
        },
        "id": "aq09NA1RPv_S",
        "outputId": "78e0e2e9-4273-4a38-bdc4-1bdb7d0b16ce"
      },
      "execution_count": null,
      "outputs": [
        {
          "output_type": "stream",
          "name": "stdout",
          "text": [
            "hello\n",
            "world!!!\n",
            "my name is\tdedipya\n",
            "im from \\ space\n",
            "my name is \t\bdedipya\n",
            "my major is \"cse\" in computer scince engineering\n",
            "em \r cheyyalani ledhu\n",
            "tomorrow X together \n",
            "\bis called txt \n"
          ]
        }
      ]
    }
  ]
}