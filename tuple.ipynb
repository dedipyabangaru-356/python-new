{
  "nbformat": 4,
  "nbformat_minor": 0,
  "metadata": {
    "colab": {
      "name": "tuple.ipynb",
      "provenance": [],
      "authorship_tag": "ABX9TyPsS3lPMTi5ID23NGwfaInc",
      "include_colab_link": true
    },
    "kernelspec": {
      "name": "python3",
      "display_name": "Python 3"
    },
    "language_info": {
      "name": "python"
    }
  },
  "cells": [
    {
      "cell_type": "markdown",
      "metadata": {
        "id": "view-in-github",
        "colab_type": "text"
      },
      "source": [
        "<a href=\"https://colab.research.google.com/github/dedipyabangaru-356/python-new/blob/Module_2/tuple.ipynb\" target=\"_parent\"><img src=\"https://colab.research.google.com/assets/colab-badge.svg\" alt=\"Open In Colab\"/></a>"
      ]
    },
    {
      "cell_type": "code",
      "execution_count": null,
      "metadata": {
        "id": "M6DKWWnyObcS",
        "colab": {
          "base_uri": "https://localhost:8080/"
        },
        "outputId": "c4e17f58-ceb6-4981-8740-6ce15bb54c59"
      },
      "outputs": [
        {
          "output_type": "stream",
          "name": "stdout",
          "text": [
            "dedipya\n",
            "('hi', 'dedipya', ',', 'from', 'india')\n",
            "from\n",
            "5\n",
            "('dedipya',)\n"
          ]
        }
      ],
      "source": [
        "tupleme=(\"hi\",\"dedipya\",\",\",\"from\",\"india\")\n",
        "print(tupleme[1])\n",
        "print(tupleme[:])\n",
        "print(tupleme[-2])\n",
        "print(len(tupleme))\n",
        "tuplen=(\"dedipya\",)\n",
        "print(tuplen)"
      ]
    },
    {
      "cell_type": "code",
      "source": [
        "mytuple=(\"hi\",\"dedipya\",\",\",\"from\",\"india\")\n",
        "print(len(mytuple))\n",
        "thistuple=(\"dedipya\",)\n",
        "print(thistuple)"
      ],
      "metadata": {
        "colab": {
          "base_uri": "https://localhost:8080/"
        },
        "id": "Bj2qmz00Q8cy",
        "outputId": "a7c48ac2-3a49-46db-d8b4-c15b77aa71ef"
      },
      "execution_count": null,
      "outputs": [
        {
          "output_type": "stream",
          "name": "stdout",
          "text": [
            "5\n",
            "('dedipya',)\n"
          ]
        }
      ]
    },
    {
      "cell_type": "code",
      "source": [
        "#removing repeated values\n",
        "tuplei=(7,0,7,5,7,6,6,0,7,7)\n",
        "l=list(tuplei)\n",
        "for i in list(l):\n",
        "  if i==6 or i==0 or i==5:\n",
        "      l.remove(i)\n",
        "tuplei=tuple(l)\n",
        "print(tuplei)"
      ],
      "metadata": {
        "colab": {
          "base_uri": "https://localhost:8080/"
        },
        "id": "XwErnpFN3UmB",
        "outputId": "7cb79e3f-836c-4dd6-89c4-b82d8e131d91"
      },
      "execution_count": null,
      "outputs": [
        {
          "output_type": "stream",
          "name": "stdout",
          "text": [
            "(7, 7, 7, 7, 7)\n"
          ]
        }
      ]
    },
    {
      "cell_type": "code",
      "source": [
        "tuples=(\"hi\",\"hello\",\"hey\",\"anyeong\")\n",
        "tuplei=(7,0,7,5,7,6,6,0,7,7)\n",
        "tupleb=(True,False,True,False)\n",
        "print(tuples,tuplei,tupleb)\n"
      ],
      "metadata": {
        "id": "6oFCVWEwSDwa",
        "colab": {
          "base_uri": "https://localhost:8080/"
        },
        "outputId": "e8f66d0c-f056-45bb-baa9-79a9b89d0d21"
      },
      "execution_count": null,
      "outputs": [
        {
          "output_type": "stream",
          "name": "stdout",
          "text": [
            "('hi', 'hello', 'hey', 'anyeong') (7, 0, 7, 5, 7, 6, 6, 0, 7, 7) (True, False, True, False)\n"
          ]
        }
      ]
    },
    {
      "cell_type": "code",
      "source": [
        "#tuple allows duplicates\n",
        "tuplef=(\"hemika\",\"harshitha\",\"manashwini\",\"hasitha\",\"gnapika\",\"harshitha\")\n",
        "print(tuplef)\n",
        "print(\"harshitha\" in tuplef)\n",
        "print(tuplef.count(\"harshitha\"))\n",
        "#tuple can take different data types\n",
        "tupledd=(\"hey\",\"what is the time\",6,\"is it true\",\"yeah!\",True)\n",
        "print(tupledd)\n",
        "print(type(tupledd))\n",
        "a=tuple((\"hey\",\"yaa!\",\"chingu aniya\"))\n",
        "print(a)"
      ],
      "metadata": {
        "id": "xNhRLaPpWPwp",
        "colab": {
          "base_uri": "https://localhost:8080/"
        },
        "outputId": "b2ba243a-c661-44fe-ee22-16c88b9a92d8"
      },
      "execution_count": null,
      "outputs": [
        {
          "output_type": "stream",
          "name": "stdout",
          "text": [
            "('hemika', 'harshitha', 'manashwini', 'hasitha', 'gnapika', 'harshitha')\n",
            "True\n",
            "2\n",
            "('hey', 'what is the time', 6, 'is it true', 'yeah!', True)\n",
            "<class 'tuple'>\n",
            "('hey', 'yaa!', 'chingu aniya')\n"
          ]
        }
      ]
    },
    {
      "cell_type": "code",
      "source": [
        "t=(\"me\",\"myself\",\"i\")\n",
        "l=list(t)\n",
        "l[-3]=\"its just\"\n",
        "print(l)"
      ],
      "metadata": {
        "colab": {
          "base_uri": "https://localhost:8080/"
        },
        "id": "GdBdEhXYnhdp",
        "outputId": "023c6ad1-5b3e-497e-8eae-bc65c6498b46"
      },
      "execution_count": null,
      "outputs": [
        {
          "output_type": "stream",
          "name": "stdout",
          "text": [
            "['its just', 'myself', 'i']\n"
          ]
        }
      ]
    },
    {
      "cell_type": "markdown",
      "source": [
        "https://bit.ly/csen1021"
      ],
      "metadata": {
        "id": "N5oI1CzQwp4S"
      }
    },
    {
      "cell_type": "code",
      "source": [
        ""
      ],
      "metadata": {
        "id": "buIEJC60Rx-k"
      },
      "execution_count": null,
      "outputs": []
    }
  ]
}