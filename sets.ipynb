{
  "nbformat": 4,
  "nbformat_minor": 0,
  "metadata": {
    "colab": {
      "name": "sets.ipynb",
      "provenance": [],
      "authorship_tag": "ABX9TyOX5PIo0m0ksaWjbwhS6Vnj",
      "include_colab_link": true
    },
    "kernelspec": {
      "name": "python3",
      "display_name": "Python 3"
    },
    "language_info": {
      "name": "python"
    }
  },
  "cells": [
    {
      "cell_type": "markdown",
      "metadata": {
        "id": "view-in-github",
        "colab_type": "text"
      },
      "source": [
        "<a href=\"https://colab.research.google.com/github/dedipyabangaru-356/python-new/blob/Module_2/sets.ipynb\" target=\"_parent\"><img src=\"https://colab.research.google.com/assets/colab-badge.svg\" alt=\"Open In Colab\"/></a>"
      ]
    },
    {
      "cell_type": "code",
      "execution_count": null,
      "metadata": {
        "id": "sJYS7dmQ0qhI",
        "colab": {
          "base_uri": "https://localhost:8080/"
        },
        "outputId": "8fe33b85-9635-4c15-e148-2c707a35932c"
      },
      "outputs": [
        {
          "output_type": "stream",
          "name": "stdout",
          "text": [
            "{'jack fruit', 'plums', 'peach'}\n"
          ]
        }
      ],
      "source": [
        "setf={\"plums\",\"peach\",\"jack fruit\"}\n",
        "print(setf)"
      ]
    },
    {
      "cell_type": "code",
      "source": [
        "#you cannot change set values and duplicates are not allowed\n",
        "setk={\"BTS\",\"EXO\",\"TXT\",\"GOT7\",\"NCT\"}\n",
        "print(len(setk))\n",
        "#it can be any datatypes\n",
        "seti={7,17,5,4,1}\n",
        "sets={\"voy\",\"oui\",\"voy\",\"oh\"}\n",
        "setb={True,False,True}\n",
        "print(seti,sets,setb)\n",
        "#sets can be in combination of datatypes\n",
        "seta={\"are\",\"you\",19,\"is\",\"it\",True}\n",
        "print(type(seta))\n",
        "#you can make a set using two round bracketts\n",
        "a=set((\"hemika\",\"harshitha\",\"manashwini\"))\n",
        "print(a)\n",
        "print(type(a))"
      ],
      "metadata": {
        "colab": {
          "base_uri": "https://localhost:8080/"
        },
        "id": "DFHu2i3VTUo7",
        "outputId": "892b21c8-3b58-4cbf-c227-f7397847190a"
      },
      "execution_count": null,
      "outputs": [
        {
          "output_type": "stream",
          "name": "stdout",
          "text": [
            "5\n",
            "{1, 4, 5, 7, 17} {'oui', 'oh', 'voy'} {False, True}\n",
            "<class 'set'>\n",
            "{'hemika', 'manashwini', 'harshitha'}\n",
            "<class 'set'>\n"
          ]
        }
      ]
    },
    {
      "cell_type": "code",
      "source": [
        "'''ACCESS SET ITEMS'''\n",
        "#you can loop through the set and print values\n",
        "setk={\"BTS\",\"EXO\",\"TXT\",\"GOT7\",\"NCT\"}\n",
        "for a in setk:\n",
        "#it is unordered\n",
        "  print(a)\n",
        "print(\"BTS\"in setk)"
      ],
      "metadata": {
        "colab": {
          "base_uri": "https://localhost:8080/"
        },
        "id": "0Zq-KCPJXWX8",
        "outputId": "63d7116c-d0ea-4729-e049-266b59b012aa"
      },
      "execution_count": null,
      "outputs": [
        {
          "output_type": "stream",
          "name": "stdout",
          "text": [
            "NCT\n",
            "GOT7\n",
            "BTS\n",
            "TXT\n",
            "EXO\n",
            "True\n"
          ]
        }
      ]
    },
    {
      "cell_type": "code",
      "source": [
        "'''ADD SET ITEMS'''\n",
        "ch=set((\"jst jelly\",\"candy\"))\n",
        "ch.add(\"dairy milk\")\n",
        "print(ch)\n",
        "co=set((\"5star\",\"bounville\",\"munch\"))\n",
        "#update is used to combine sets\n",
        "ch.update(co)\n",
        "print(ch)\n",
        "# you can transfer list items to set\n",
        "listc=[\"kit kat\",\"kopico\"]\n",
        "ch.update(listc)\n",
        "print(ch)"
      ],
      "metadata": {
        "colab": {
          "base_uri": "https://localhost:8080/"
        },
        "id": "e0aq_ZvkY0ck",
        "outputId": "ae6fc827-77be-4e1f-ed8a-cadcfe54a5c8"
      },
      "execution_count": null,
      "outputs": [
        {
          "output_type": "stream",
          "name": "stdout",
          "text": [
            "{'jst jelly', 'candy', 'dairy milk'}\n",
            "{'bounville', 'jst jelly', 'dairy milk', 'munch', '5star', 'candy'}\n",
            "{'bounville', 'jst jelly', 'dairy milk', 'munch', 'kopico', 'kit kat', '5star', 'candy'}\n"
          ]
        }
      ]
    },
    {
      "cell_type": "code",
      "source": [
        "'''REMOVE SET ITEMS'''\n",
        "#remove\n",
        "ch=set(('bounville', 'jst jelly', 'dairy milk', 'munch', 'kopico', 'kit kat', '5star', 'candy'))\n",
        "ch.remove('jst jelly')\n",
        "print(ch)#if the item to remove does not exist it shows error\n",
        "#discard does not show error like remove\n",
        "ch.discard('coco')\n",
        "print(ch)\n",
        "#you don't know which item gets removed when you use pop()\n",
        "p=ch.pop()\n",
        "print(p)#removed item\n",
        "print(ch)#the set after removing\n",
        "#clear is used to empty the set\n",
        "co=set((\"5star\",\"bounville\",\"munch\"))\n",
        "co.clear()\n",
        "print(co)\n",
        "#del is used to delete the set"
      ],
      "metadata": {
        "colab": {
          "base_uri": "https://localhost:8080/"
        },
        "id": "EFhKbwCVd1Lu",
        "outputId": "51513ec0-b336-479f-fba1-5e997c85d535"
      },
      "execution_count": null,
      "outputs": [
        {
          "output_type": "stream",
          "name": "stdout",
          "text": [
            "{'bounville', 'candy', 'kopico', 'dairy milk', 'kit kat', '5star', 'munch'}\n",
            "{'bounville', 'candy', 'kopico', 'dairy milk', 'kit kat', '5star', 'munch'}\n",
            "bounville\n",
            "{'candy', 'kopico', 'dairy milk', 'kit kat', '5star', 'munch'}\n",
            "set()\n"
          ]
        }
      ]
    },
    {
      "cell_type": "code",
      "source": [
        "'''LOOP SETS'''\n",
        "setk={\"BTS\",\"EXO\",\"TXT\",\"GOT7\",\"NCT\"}\n",
        "for a in setk:\n",
        "#it is unordered\n",
        "  print(a)"
      ],
      "metadata": {
        "colab": {
          "base_uri": "https://localhost:8080/"
        },
        "id": "NSureFWJhpFd",
        "outputId": "929efc1e-3a08-44b7-d00f-b7c22677f6d3"
      },
      "execution_count": null,
      "outputs": [
        {
          "output_type": "stream",
          "name": "stdout",
          "text": [
            "GOT7\n",
            "EXO\n",
            "NCT\n",
            "BTS\n",
            "TXT\n"
          ]
        }
      ]
    },
    {
      "cell_type": "code",
      "source": [
        "'''JOIN SETS'''\n",
        "m={\"ill\",\"with\",\"you\"}\n",
        "jm={\"beright\",\"gwenchana\"}\n",
        "jmm=m.union(jm)\n",
        "print(jmm)\n",
        "#we can also use update to join sets\n",
        "m.update(jm)\n",
        "print(jmm)\n",
        "#union and update will exclude any duplicates"
      ],
      "metadata": {
        "colab": {
          "base_uri": "https://localhost:8080/"
        },
        "id": "3JbM0hQfik8v",
        "outputId": "f178c388-c35c-447a-9517-585bd4c87696"
      },
      "execution_count": null,
      "outputs": [
        {
          "output_type": "stream",
          "name": "stdout",
          "text": [
            "{'with', 'you', 'gwenchana', 'ill', 'beright'}\n",
            "{'with', 'you', 'gwenchana', 'ill', 'beright'}\n"
          ]
        }
      ]
    },
    {
      "cell_type": "code",
      "source": [
        "'''TO keeping only DUPLICATES'''\n",
        " f= {\"\"}"
      ],
      "metadata": {
        "id": "hUwpki6vkK8e"
      },
      "execution_count": null,
      "outputs": []
    }
  ]
}