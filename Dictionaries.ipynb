{
  "nbformat": 4,
  "nbformat_minor": 0,
  "metadata": {
    "colab": {
      "name": "Dictionaries.ipynb",
      "provenance": [],
      "authorship_tag": "ABX9TyNM/gKljjMoNOcCFdc00sAl",
      "include_colab_link": true
    },
    "kernelspec": {
      "name": "python3",
      "display_name": "Python 3"
    },
    "language_info": {
      "name": "python"
    }
  },
  "cells": [
    {
      "cell_type": "markdown",
      "metadata": {
        "id": "view-in-github",
        "colab_type": "text"
      },
      "source": [
        "<a href=\"https://colab.research.google.com/github/dedipyabangaru-356/python-new/blob/Module_2/Dictionaries.ipynb\" target=\"_parent\"><img src=\"https://colab.research.google.com/assets/colab-badge.svg\" alt=\"Open In Colab\"/></a>"
      ]
    },
    {
      "cell_type": "code",
      "execution_count": null,
      "metadata": {
        "colab": {
          "base_uri": "https://localhost:8080/"
        },
        "id": "ZlV7qgtSD4Eq",
        "outputId": "51a34b21-dc1a-4893-e3d1-7482c29bc911"
      },
      "outputs": [
        {
          "output_type": "stream",
          "name": "stdout",
          "text": [
            "{'brand': 'chanel', 'model': 'jisoo', 'year': 2022}\n",
            "3\n"
          ]
        }
      ],
      "source": [
        "#ordered or unordered and changable\n",
        "bdict={\n",
        "    \"brand\":\"chanel\",\n",
        "    \"model\":\"jisoo\",\n",
        "    \"year\": 2021,#duplicates not allowed\n",
        "    \"year\": 2022#value is overwritten\n",
        "}\n",
        "print(bdict)\n",
        "print(len(bdict))"
      ]
    },
    {
      "cell_type": "code",
      "source": [
        "#the values of dictionaries can be of any data types\n",
        "amdict={\n",
        "    \"brand\":\"louis vuitton\",\n",
        "    \"accessories\": [\"clothes\",\"bags\",\"cycles\"],\n",
        "    \"model\":\"BTS\",\n",
        "    \"fashionable\":True,\n",
        "    \"year\":1854\n",
        "}\n",
        "print(amdict)\n",
        "print(type(amdict))"
      ],
      "metadata": {
        "colab": {
          "base_uri": "https://localhost:8080/"
        },
        "id": "QwwWeoSFEodf",
        "outputId": "d166fc27-609e-4696-820c-ec498d3ca8ca"
      },
      "execution_count": null,
      "outputs": [
        {
          "output_type": "stream",
          "name": "stdout",
          "text": [
            "{'brand': 'louis vuitton', 'accessories': ['clothes', 'bags', 'cycles'], 'model': 'BTS', 'fashionable': True, 'year': 1854}\n",
            "<class 'dict'>\n"
          ]
        }
      ]
    },
    {
      "cell_type": "code",
      "source": [
        "#ACESS ITEMS\n",
        "amdict={\n",
        "    \"brand\":\"louis vuitton\",\n",
        "    \"accessories\": [\"clothes\",\"bags\",\"cycles\"],\n",
        "    \"model\":\"BTS\",\n",
        "    \"fashionable\":True,\n",
        "    \"year\":1854,\n",
        "    \"debut\":2013 \n",
        "}\n",
        "print(amdict[\"model\"])\n",
        "#to get the value\n",
        "print(amdict.get(\"debut\"))"
      ],
      "metadata": {
        "colab": {
          "base_uri": "https://localhost:8080/"
        },
        "id": "IDlqjCmzI1_O",
        "outputId": "83ef44fe-ef12-4a1a-cfed-cb07c8a4049c"
      },
      "execution_count": null,
      "outputs": [
        {
          "output_type": "stream",
          "name": "stdout",
          "text": [
            "BTS\n",
            "2013\n"
          ]
        }
      ]
    },
    {
      "cell_type": "code",
      "source": [
        ""
      ],
      "metadata": {
        "id": "dgCRkmf_JKlH"
      },
      "execution_count": null,
      "outputs": []
    }
  ]
}